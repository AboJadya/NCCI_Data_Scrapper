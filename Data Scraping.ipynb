{
 "cells": [
  {
   "cell_type": "code",
   "execution_count": null,
   "metadata": {},
   "outputs": [],
   "source": [
    "from bs4 import BeautifulSoup\n",
    "import csv\n",
    "import pandas as pd\n",
    "import requests\n",
    "from datetime import datetime, timedelta, date"
   ]
  },
  {
   "cell_type": "markdown",
   "metadata": {},
   "source": [
    "## This is the basic for getting the HTML and parsing it"
   ]
  },
  {
   "cell_type": "code",
   "execution_count": null,
   "metadata": {},
   "outputs": [],
   "source": [
    "## Here we select the link for the jobs page for NCCI\n",
    "link = \"https://ncciraqjobs.com/index.php/jobseeker-control-panel\""
   ]
  },
  {
   "cell_type": "code",
   "execution_count": null,
   "metadata": {},
   "outputs": [],
   "source": [
    "def get_soup (url):\n",
    "    response = requests.get(url)\n",
    "    soup = BeautifulSoup(response.text,\"html.parser\")\n",
    "    return soup"
   ]
  },
  {
   "cell_type": "code",
   "execution_count": null,
   "metadata": {},
   "outputs": [],
   "source": [
    "records = []\n",
    "def get_record(card):\n",
    "    job_title = card.find(\"a\",{\"class\":\"js_job_title\"}).text.strip()\n",
    "    ngo = card.find(\"a\",{\"class\":\"js_job_data_2_company_link\"}).text.strip()\n",
    "    job_location = card.find(\"span\",{\"class\":\"js_job_data_location_value\"}).text.strip()\n",
    "    export_date = date.today()\n",
    "    post_date = card.find(\"span\",{\"class\":\"js_job_posted\"}).text.strip()[8:]\n",
    "\n",
    "    if post_date == \"Today\":\n",
    "        post_date = date.today()\n",
    "    else:\n",
    "        post_date = export_date - timedelta(int(post_date.split()[0]))\n",
    "\n",
    "    job_url = \"https://ncciraqjobs.com\" + card.find(\"a\",{\"class\":\"js_job_data_2_company_link\"}).get(\"href\").strip()\n",
    "    \n",
    "    record = [job_title, ngo, job_location, export_date, post_date, job_url]\n",
    "    return record"
   ]
  },
  {
   "cell_type": "code",
   "execution_count": null,
   "metadata": {},
   "outputs": [],
   "source": [
    "def get_cards():\n",
    "    cards = get_soup(link).find_all(\"div\",{\"class\":\"js_job_main_wrapper\"})\n",
    "    return cards"
   ]
  },
  {
   "cell_type": "code",
   "execution_count": null,
   "metadata": {},
   "outputs": [],
   "source": [
    "len(records)"
   ]
  },
  {
   "cell_type": "code",
   "execution_count": null,
   "metadata": {},
   "outputs": [],
   "source": [
    "while True:\n",
    "    try:\n",
    "        soup = get_soup(link)\n",
    "        cards = get_cards()\n",
    "        for card in cards: \n",
    "            record = get_record(card)\n",
    "            records.append(record)\n",
    "        link = \"https://ncciraqjobs.com\" + soup.find(\"a\",{\"aria-label\":\"Go to next page\"}).get(\"href\")\n",
    "        print(link)\n",
    "    except:\n",
    "        break"
   ]
  },
  {
   "cell_type": "code",
   "execution_count": null,
   "metadata": {},
   "outputs": [],
   "source": [
    "data = pd.DataFrame(records, index=None, columns=[\"Job Title\", \"Organization\", \"Job Location\", \"Export Date\", \"Post Date\",\n",
    "                                                  \"Job URL\"])"
   ]
  },
  {
   "cell_type": "code",
   "execution_count": null,
   "metadata": {},
   "outputs": [],
   "source": [
    "data.to_csv(r\"Enter designated path here or just leave it default as data.csv\", index=False, encoding=\"utf-8-sig\")"
   ]
  },
  {
   "cell_type": "code",
   "execution_count": null,
   "metadata": {},
   "outputs": [],
   "source": []
  }
 ],
 "metadata": {
  "kernelspec": {
   "display_name": "Python 3",
   "language": "python",
   "name": "python3"
  },
  "language_info": {
   "codemirror_mode": {
    "name": "ipython",
    "version": 3
   },
   "file_extension": ".py",
   "mimetype": "text/x-python",
   "name": "python",
   "nbconvert_exporter": "python",
   "pygments_lexer": "ipython3",
   "version": "3.7.3"
  }
 },
 "nbformat": 4,
 "nbformat_minor": 2
}
